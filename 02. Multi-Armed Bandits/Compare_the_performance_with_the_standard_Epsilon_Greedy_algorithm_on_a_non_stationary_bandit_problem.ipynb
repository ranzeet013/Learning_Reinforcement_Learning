{
  "nbformat": 4,
  "nbformat_minor": 0,
  "metadata": {
    "colab": {
      "provenance": []
    },
    "kernelspec": {
      "name": "python3",
      "display_name": "Python 3"
    },
    "language_info": {
      "name": "python"
    }
  },
  "cells": [
    {
      "cell_type": "code",
      "execution_count": 1,
      "metadata": {
        "colab": {
          "base_uri": "https://localhost:8080/"
        },
        "id": "GtPYW8oDvcMN",
        "outputId": "fe6cf1a1-4d82-4231-c4f5-afa2a9398a8a"
      },
      "outputs": [
        {
          "output_type": "stream",
          "name": "stdout",
          "text": [
            "Average Reward: 0.6255\n"
          ]
        }
      ],
      "source": [
        "import numpy as np\n",
        "\n",
        "class NonStationaryBandit:\n",
        "    def __init__(self, n_arms, n_periods, prob_changes):\n",
        "        self.n_arms = n_arms\n",
        "        self.n_periods = n_periods\n",
        "        self.prob_changes = prob_changes\n",
        "        self.current_period = 0\n",
        "        self.rewards = np.zeros(n_arms)\n",
        "        self.update_probabilities()\n",
        "\n",
        "    def update_probabilities(self):\n",
        "        self.probabilities = np.random.rand(self.n_arms)\n",
        "\n",
        "    def step(self, action):\n",
        "        if self.current_period % self.prob_changes == 0:\n",
        "            self.update_probabilities()\n",
        "        reward = 1 if np.random.rand() < self.probabilities[action] else 0\n",
        "        self.current_period += 1\n",
        "        return reward\n",
        "\n",
        "def epsilon_greedy(bandit, n_steps, epsilon):\n",
        "    n_arms = bandit.n_arms\n",
        "    Q = np.zeros(n_arms)\n",
        "    N = np.zeros(n_arms)\n",
        "    rewards = []\n",
        "\n",
        "    for step in range(n_steps):\n",
        "        if np.random.rand() < epsilon:\n",
        "            action = np.random.choice(n_arms)\n",
        "        else:\n",
        "            action = np.argmax(Q)\n",
        "\n",
        "        reward = bandit.step(action)\n",
        "        rewards.append(reward)\n",
        "\n",
        "        N[action] += 1\n",
        "        Q[action] += (reward - Q[action]) / N[action]\n",
        "\n",
        "    return np.array(rewards)\n",
        "\n",
        "# Define parameters\n",
        "n_arms = 10\n",
        "n_steps = 10000\n",
        "epsilon = 0.1\n",
        "prob_changes = 500\n",
        "n_periods = n_steps // prob_changes\n",
        "\n",
        "# Initialize non-stationary bandit\n",
        "bandit = NonStationaryBandit(n_arms, n_periods, prob_changes)\n",
        "\n",
        "\n",
        "rewards = epsilon_greedy(bandit, n_steps, epsilon)\n",
        "\n",
        "# performance metrics\n",
        "average_reward = np.mean(rewards)\n",
        "print(f'Average Reward: {average_reward}')\n"
      ]
    },
    {
      "cell_type": "code",
      "source": [],
      "metadata": {
        "id": "HZ4WtrecvsG5"
      },
      "execution_count": null,
      "outputs": []
    }
  ]
}