{
  "nbformat": 4,
  "nbformat_minor": 0,
  "metadata": {
    "colab": {
      "provenance": []
    },
    "kernelspec": {
      "name": "python3",
      "display_name": "Python 3"
    },
    "language_info": {
      "name": "python"
    }
  },
  "cells": [
    {
      "cell_type": "code",
      "source": [
        "import numpy as np\n",
        "\n",
        "def epsilon_greedy(q, states, n_actions, epsilon = 0.1):\n",
        "  if np.random.rand() < epsilon:\n",
        "    return np.random.rand(n_actions)\n",
        "  else:\n",
        "    action = np.argmax(q[states])\n",
        "  return action\n",
        "\n",
        "n_states = 10\n",
        "n_actions = 15\n",
        "\n",
        "q = np.zeros((n_states, n_actions))\n",
        "\n",
        "state = 0\n",
        "epsilon = 0.1\n",
        "\n",
        "action = epsilon_greedy(q, state, n_actions, epsilon)\n",
        "\n",
        "print(\"All possible actions:\")\n",
        "for i in range(n_actions):\n",
        "    print(f\"Action {i}: Value {q[state, i]}\")\n",
        "\n",
        "print(f\"\\nSelected action: {action}\")\n"
      ],
      "metadata": {
        "colab": {
          "base_uri": "https://localhost:8080/"
        },
        "id": "JBtkHdUZhoV9",
        "outputId": "c634ed1f-7116-4846-fbfe-9f09f2554b9d"
      },
      "execution_count": 6,
      "outputs": [
        {
          "output_type": "stream",
          "name": "stdout",
          "text": [
            "All possible actions:\n",
            "Action 0: Value 0.0\n",
            "Action 1: Value 0.0\n",
            "Action 2: Value 0.0\n",
            "Action 3: Value 0.0\n",
            "Action 4: Value 0.0\n",
            "Action 5: Value 0.0\n",
            "Action 6: Value 0.0\n",
            "Action 7: Value 0.0\n",
            "Action 8: Value 0.0\n",
            "Action 9: Value 0.0\n",
            "Action 10: Value 0.0\n",
            "Action 11: Value 0.0\n",
            "Action 12: Value 0.0\n",
            "Action 13: Value 0.0\n",
            "Action 14: Value 0.0\n",
            "\n",
            "Selected action: 0\n"
          ]
        }
      ]
    },
    {
      "cell_type": "code",
      "source": [],
      "metadata": {
        "id": "8rKm7JYfjQp_"
      },
      "execution_count": null,
      "outputs": []
    }
  ]
}