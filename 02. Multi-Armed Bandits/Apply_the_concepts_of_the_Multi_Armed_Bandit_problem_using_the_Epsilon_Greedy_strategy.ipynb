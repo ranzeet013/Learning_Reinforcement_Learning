{
  "nbformat": 4,
  "nbformat_minor": 0,
  "metadata": {
    "colab": {
      "provenance": []
    },
    "kernelspec": {
      "name": "python3",
      "display_name": "Python 3"
    },
    "language_info": {
      "name": "python"
    }
  },
  "cells": [
    {
      "cell_type": "markdown",
      "source": [
        " Implement an Epsilon-Greedy algorithm to solve a Multi-Armed Bandit problem with 5 slot machines. Each machine has a different fixed but unknown probability of payout. Simulate 1000 pulls and track the total reward and cumulative regret."
      ],
      "metadata": {
        "id": "T4graWIjIuIX"
      }
    },
    {
      "cell_type": "code",
      "execution_count": 5,
      "metadata": {
        "colab": {
          "base_uri": "https://localhost:8080/"
        },
        "id": "k1dpne6jItLY",
        "outputId": "af03bc1b-5a02-4e3f-b814-03211a50d67f"
      },
      "outputs": [
        {
          "output_type": "stream",
          "name": "stdout",
          "text": [
            "Estimated Probabilities: [0.34210526 0.37662338 0.44827586 0.79464286 1.        ]\n",
            "Total Reward: 888\n",
            "Cumulative Regret: 112.0\n"
          ]
        }
      ],
      "source": [
        "import random\n",
        "import numpy as np\n",
        "\n",
        "true_probabilities = [0.2, 0.4, 0.6, 0.8, 1.0]  # payout probabilities of slot machines\n",
        "\n",
        "slot_machines = len(true_probabilities)  # number of slot machines\n",
        "pulls = 1000  # number of pulls\n",
        "epsilon = 0.1  # epsilon value\n",
        "\n",
        "estimated_probabilities = np.zeros(slot_machines)  # estimated probabilities\n",
        "pull_count = np.zeros(slot_machines)  # count of pulls for each machine\n",
        "total_reward = 0\n",
        "cumulative_regret = []\n",
        "\n",
        "for pull in range(1, pulls + 1):\n",
        "    if np.random.rand() < epsilon:  # random selection method\n",
        "        chosen_action = np.random.randint(slot_machines)\n",
        "    else:\n",
        "        chosen_action = np.argmax(estimated_probabilities)\n",
        "\n",
        "    reward = np.random.rand() < true_probabilities[chosen_action]  # update the reward\n",
        "    total_reward += reward\n",
        "    pull_count[chosen_action] += 1  # update the count and estimated probabilities\n",
        "    estimated_probabilities[chosen_action] += (reward - estimated_probabilities[chosen_action]) / pull_count[chosen_action]\n",
        "\n",
        "    best_possible_reward = pull * max(true_probabilities)\n",
        "    cumulative_regret.append(best_possible_reward - total_reward)\n",
        "\n",
        "print(\"Estimated Probabilities:\", estimated_probabilities)\n",
        "print(\"Total Reward:\", total_reward)\n",
        "print(\"Cumulative Regret:\", cumulative_regret[-1])\n"
      ]
    },
    {
      "cell_type": "code",
      "source": [],
      "metadata": {
        "id": "zrnEVNsZLuH2"
      },
      "execution_count": null,
      "outputs": []
    }
  ]
}