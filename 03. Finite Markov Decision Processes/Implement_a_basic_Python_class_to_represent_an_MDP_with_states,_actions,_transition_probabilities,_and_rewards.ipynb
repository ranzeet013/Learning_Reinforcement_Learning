{
  "nbformat": 4,
  "nbformat_minor": 0,
  "metadata": {
    "colab": {
      "provenance": []
    },
    "kernelspec": {
      "name": "python3",
      "display_name": "Python 3"
    },
    "language_info": {
      "name": "python"
    }
  },
  "cells": [
    {
      "cell_type": "code",
      "execution_count": 1,
      "metadata": {
        "colab": {
          "base_uri": "https://localhost:8080/"
        },
        "id": "oIgcFTspf7gO",
        "outputId": "847cb6c8-1396-4430-e6e7-ccfd89da3308"
      },
      "outputs": [
        {
          "output_type": "stream",
          "name": "stdout",
          "text": [
            "Next states and probabilities from state s1 taking action a1: [('s2', 0.8), ('s3', 0.2)]\n",
            "Reward for moving from s1 to 's2' using a1: 5\n"
          ]
        }
      ],
      "source": [
        "class MDP:\n",
        "    def __init__(self, states, actions, transitions, rewards, gamma=0.9):\n",
        "        \"\"\"\n",
        "        Initialize the MDP.\n",
        "        :param states: List of all states in the MDP.\n",
        "        :param actions: List of all actions in the MDP.\n",
        "        :param transitions: A dictionary where keys are tuples of (state, action) and values are lists of tuples (next_state, probability).\n",
        "        :param rewards: A dictionary where keys are tuples of (state, action, next_state) and values are the rewards for taking the action in the state and ending up in next_state.\n",
        "        :param gamma: Discount factor (default is 0.9).\n",
        "        \"\"\"\n",
        "        self.states = states\n",
        "        self.actions = actions\n",
        "        self.transitions = transitions\n",
        "        self.rewards = rewards\n",
        "        self.gamma = gamma\n",
        "\n",
        "    def get_possible_actions(self, state):\n",
        "        \"\"\"Return a list of possible actions in a given state.\"\"\"\n",
        "        return [action for (s, action) in self.transitions.keys() if s == state]\n",
        "\n",
        "    def get_next_states_and_probs(self, state, action):\n",
        "        \"\"\"Return a list of next states and their transition probabilities given a state and action.\"\"\"\n",
        "        return self.transitions.get((state, action), [])\n",
        "\n",
        "    def get_reward(self, state, action, next_state):\n",
        "        \"\"\"Return the reward for a transition from state to next_state using action.\"\"\"\n",
        "        return self.rewards.get((state, action, next_state), 0)\n",
        "\n",
        "    def is_terminal(self, state):\n",
        "        \"\"\"Check if a state is terminal (i.e., has no actions available).\"\"\"\n",
        "        return len(self.get_possible_actions(state)) == 0\n",
        "\n",
        "\n",
        "# Example usage\n",
        "states = ['s1', 's2', 's3']\n",
        "actions = ['a1', 'a2']\n",
        "transitions = {\n",
        "    ('s1', 'a1'): [('s2', 0.8), ('s3', 0.2)],\n",
        "    ('s1', 'a2'): [('s3', 1.0)],\n",
        "    ('s2', 'a1'): [('s1', 1.0)],\n",
        "    ('s2', 'a2'): [('s3', 1.0)],\n",
        "}\n",
        "rewards = {\n",
        "    ('s1', 'a1', 's2'): 5,\n",
        "    ('s1', 'a1', 's3'): 10,\n",
        "    ('s1', 'a2', 's3'): 2,\n",
        "    ('s2', 'a1', 's1'): -1,\n",
        "    ('s2', 'a2', 's3'): 0,\n",
        "}\n",
        "\n",
        "mdp = MDP(states, actions, transitions, rewards)\n",
        "\n",
        "state = 's1'\n",
        "action = 'a1'\n",
        "next_states_and_probs = mdp.get_next_states_and_probs(state, action)\n",
        "reward = mdp.get_reward(state, action, 's2')\n",
        "\n",
        "print(f\"Next states and probabilities from state {state} taking action {action}: {next_states_and_probs}\")\n",
        "print(f\"Reward for moving from {state} to 's2' using {action}: {reward}\")\n"
      ]
    },
    {
      "cell_type": "code",
      "source": [],
      "metadata": {
        "id": "5vEt9X8Ngzuu"
      },
      "execution_count": null,
      "outputs": []
    }
  ]
}