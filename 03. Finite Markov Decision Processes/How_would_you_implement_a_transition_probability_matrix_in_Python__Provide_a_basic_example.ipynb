{
  "nbformat": 4,
  "nbformat_minor": 0,
  "metadata": {
    "colab": {
      "provenance": []
    },
    "kernelspec": {
      "name": "python3",
      "display_name": "Python 3"
    },
    "language_info": {
      "name": "python"
    }
  },
  "cells": [
    {
      "cell_type": "code",
      "execution_count": 1,
      "metadata": {
        "colab": {
          "base_uri": "https://localhost:8080/"
        },
        "id": "amHvTrQeZB2Z",
        "outputId": "b48190a4-6891-4b1a-8e10-61ad3d0fde57"
      },
      "outputs": [
        {
          "output_type": "stream",
          "name": "stdout",
          "text": [
            "State sequence:\n",
            "A\n",
            "C\n",
            "C\n",
            "A\n",
            "C\n",
            "C\n",
            "C\n",
            "C\n",
            "C\n",
            "C\n",
            "C\n"
          ]
        }
      ],
      "source": [
        "import numpy as np\n",
        "\n",
        "def get_next_state(current_state_index, transition_matrix):\n",
        "    \"\"\"\n",
        "    Determine the next state based on the current state index and transition probabilities.\n",
        "\n",
        "    Args:\n",
        "    current_state_index (int): Index of the current state.\n",
        "    transition_matrix (numpy.ndarray): Transition probability matrix.\n",
        "\n",
        "    Returns:\n",
        "    int: Index of the next state.\n",
        "    \"\"\"\n",
        "    probabilities = transition_matrix[current_state_index]\n",
        "    next_state_index = np.random.choice(len(probabilities), p=probabilities)\n",
        "    return next_state_index\n",
        "\n",
        "def main():\n",
        "    \"\"\"\n",
        "    Simulate state transitions based on a transition probability matrix.\n",
        "    \"\"\"\n",
        "    transition_matrix = np.array([\n",
        "        [0.5, 0.3, 0.2],\n",
        "        [0.1, 0.7, 0.2],\n",
        "        [0.4, 0.2, 0.4]\n",
        "    ])\n",
        "\n",
        "    states = ['A', 'B', 'C']\n",
        "    current_state_index = 0\n",
        "\n",
        "    print(\"State sequence:\")\n",
        "    for step in range(10):\n",
        "        print(states[current_state_index])\n",
        "        current_state_index = get_next_state(current_state_index, transition_matrix)\n",
        "\n",
        "    print(states[current_state_index])\n",
        "\n",
        "if __name__ == \"__main__\":\n",
        "    main()"
      ]
    },
    {
      "cell_type": "code",
      "source": [],
      "metadata": {
        "id": "DlX7LDbQZPZP"
      },
      "execution_count": null,
      "outputs": []
    }
  ]
}