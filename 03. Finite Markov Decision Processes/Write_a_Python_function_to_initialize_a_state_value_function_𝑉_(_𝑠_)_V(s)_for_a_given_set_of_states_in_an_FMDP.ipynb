{
  "nbformat": 4,
  "nbformat_minor": 0,
  "metadata": {
    "colab": {
      "provenance": []
    },
    "kernelspec": {
      "name": "python3",
      "display_name": "Python 3"
    },
    "language_info": {
      "name": "python"
    }
  },
  "cells": [
    {
      "cell_type": "code",
      "execution_count": 2,
      "metadata": {
        "colab": {
          "base_uri": "https://localhost:8080/"
        },
        "id": "NEiunN0mJc6c",
        "outputId": "587b1880-4822-47f5-e25f-5c1bc1916445"
      },
      "outputs": [
        {
          "output_type": "stream",
          "name": "stdout",
          "text": [
            "{'s1': 0, 's2': 0, 's3': 0, 's4': 0}\n"
          ]
        }
      ],
      "source": [
        "def initialize_value_function(states):\n",
        "    \"\"\"\n",
        "    Initialize a state-value function V(s) for a given set of states in a Finite Markov Decision Process (FMDP).\n",
        "\n",
        "    Args:\n",
        "        states (list): A list of states in the FMDP.\n",
        "\n",
        "    Returns:\n",
        "        dict: A dictionary representing the state-value function V(s), where the keys are states and the values are initialized to 0.\n",
        "    \"\"\"\n",
        "    # Initialize the value function with 0 for each state\n",
        "    value_function = {state: 0 for state in states}\n",
        "    return value_function\n",
        "\n",
        "# Example usage:\n",
        "states = ['s1', 's2', 's3', 's4']\n",
        "value_function = initialize_value_function(states)\n",
        "print(value_function)\n"
      ]
    },
    {
      "cell_type": "code",
      "source": [],
      "metadata": {
        "id": "V4JxoLAWJkXe"
      },
      "execution_count": null,
      "outputs": []
    }
  ]
}