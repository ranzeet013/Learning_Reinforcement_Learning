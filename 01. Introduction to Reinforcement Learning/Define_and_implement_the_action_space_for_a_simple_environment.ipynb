{
  "nbformat": 4,
  "nbformat_minor": 0,
  "metadata": {
    "colab": {
      "provenance": []
    },
    "kernelspec": {
      "name": "python3",
      "display_name": "Python 3"
    },
    "language_info": {
      "name": "python"
    }
  },
  "cells": [
    {
      "cell_type": "code",
      "execution_count": 1,
      "metadata": {
        "colab": {
          "base_uri": "https://localhost:8080/"
        },
        "id": "87za6tCZpvv8",
        "outputId": "f6b85742-5cbb-4c51-ee25-79605f3e6a4b"
      },
      "outputs": [
        {
          "output_type": "stream",
          "name": "stdout",
          "text": [
            "Action Space: ['up', 'down', 'left', 'right']\n"
          ]
        }
      ],
      "source": [
        "class GridWorld:\n",
        "    def __init__(self, size=3):\n",
        "        self.size = size\n",
        "        self.action_space = ['up', 'down', 'left', 'right']\n",
        "        self.agent_position = [0, 0]\n",
        "        self.goal_position = [size - 1, size - 1]\n",
        "\n",
        "    def reset(self):\n",
        "        self.agent_position = [0, 0]\n",
        "        return self.agent_position\n",
        "\n",
        "    def step(self, action):\n",
        "        x, y = self.agent_position\n",
        "\n",
        "        if action == 'up':\n",
        "            x = max(0, x - 1)\n",
        "        elif action == 'down':\n",
        "            x = min(self.size - 1, x + 1)\n",
        "        elif action == 'left':\n",
        "            y = max(0, y - 1)\n",
        "        elif action == 'right':\n",
        "            y = min(self.size - 1, y + 1)\n",
        "\n",
        "        self.agent_position = [x, y]\n",
        "\n",
        "        reward = -1\n",
        "        done = False\n",
        "        if self.agent_position == self.goal_position:\n",
        "            reward = 1\n",
        "            done = True\n",
        "\n",
        "        return self.agent_position, reward, done\n",
        "\n",
        "    def render(self):\n",
        "        for i in range(self.size):\n",
        "            for j in range(self.size):\n",
        "                if self.agent_position == [i, j]:\n",
        "                    print(\"A\", end=\" \")\n",
        "                elif self.goal_position == [i, j]:\n",
        "                    print(\"G\", end=\" \")\n",
        "                else:\n",
        "                    print(\".\", end=\" \")\n",
        "            print()\n",
        "        print()\n",
        "\n",
        "env = GridWorld(size=3)\n",
        "print(\"Action Space:\", env.action_space)\n"
      ]
    },
    {
      "cell_type": "code",
      "source": [],
      "metadata": {
        "id": "S4G25ZlDqVNk"
      },
      "execution_count": null,
      "outputs": []
    }
  ]
}