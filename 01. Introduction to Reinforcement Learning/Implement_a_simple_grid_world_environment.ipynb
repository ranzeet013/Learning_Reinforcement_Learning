{
  "nbformat": 4,
  "nbformat_minor": 0,
  "metadata": {
    "colab": {
      "provenance": []
    },
    "kernelspec": {
      "name": "python3",
      "display_name": "Python 3"
    },
    "language_info": {
      "name": "python"
    }
  },
  "cells": [
    {
      "cell_type": "code",
      "execution_count": 4,
      "metadata": {
        "colab": {
          "base_uri": "https://localhost:8080/"
        },
        "id": "X0pMgkOp8gN5",
        "outputId": "8f9f5117-8be9-468b-d8bb-8db629c187a4"
      },
      "outputs": [
        {
          "output_type": "stream",
          "name": "stdout",
          "text": [
            "A . . . \n",
            ". . . . \n",
            ". . . . \n",
            ". . . G \n",
            "\n",
            ". A . . \n",
            ". . . . \n",
            ". . . . \n",
            ". . . G \n",
            "\n",
            ". . A . \n",
            ". . . . \n",
            ". . . . \n",
            ". . . G \n",
            "\n",
            ". . . A \n",
            ". . . . \n",
            ". . . . \n",
            ". . . G \n",
            "\n",
            ". . . . \n",
            ". . . A \n",
            ". . . . \n",
            ". . . G \n",
            "\n",
            ". . . . \n",
            ". . . . \n",
            ". . . A \n",
            ". . . G \n",
            "\n",
            ". . . . \n",
            ". . . . \n",
            ". . . . \n",
            ". . . A \n",
            "\n",
            "Goal reached!\n"
          ]
        }
      ],
      "source": [
        "class GridWorld:\n",
        "    def __init__(self, size=4):\n",
        "        self.size = size\n",
        "        self.agent_position = [0, 0]\n",
        "        self.goal_position = [size - 1, size - 1]\n",
        "\n",
        "    def reset(self):\n",
        "        self.agent_position = [0, 0]\n",
        "        return self.agent_position\n",
        "\n",
        "    def step(self, action):\n",
        "        if action == \"up\":\n",
        "            self.agent_position[0] = max(0, self.agent_position[0] - 1)\n",
        "        elif action == 'down':\n",
        "            self.agent_position[0] = min(self.size - 1, self.agent_position[0] + 1)\n",
        "        elif action == 'right':\n",
        "            self.agent_position[1] = min(self.size - 1, self.agent_position[1] + 1)\n",
        "        elif action == 'left':\n",
        "            self.agent_position[1] = max(0, self.agent_position[1] - 1)\n",
        "\n",
        "        reward = -1\n",
        "        done = False\n",
        "        if self.agent_position == self.goal_position:\n",
        "            reward = 1\n",
        "            done = True\n",
        "        return self.agent_position, reward, done\n",
        "\n",
        "    def render(self):\n",
        "        for i in range(self.size):\n",
        "            for j in range(self.size):\n",
        "                if self.agent_position == [i, j]:\n",
        "                    print(\"A\", end=\" \")\n",
        "                elif self.goal_position == [i, j]:\n",
        "                    print(\"G\", end=\" \")\n",
        "                else:\n",
        "                    print(\".\", end=\" \")\n",
        "            print()\n",
        "        print()\n",
        "\n",
        "# Example usage\n",
        "env = GridWorld()\n",
        "env.reset()\n",
        "env.render()\n",
        "\n",
        "actions = ['right', 'right', 'right', 'down', 'down', 'down']\n",
        "\n",
        "for action in actions:\n",
        "    new_state, reward, done = env.step(action)\n",
        "    env.render()\n",
        "    if done:\n",
        "        print(\"Goal reached!\")\n",
        "        break\n",
        "\n",
        "\n",
        "\n",
        ""
      ]
    },
    {
      "cell_type": "code",
      "source": [],
      "metadata": {
        "id": "_QCnVClzCXsp"
      },
      "execution_count": null,
      "outputs": []
    }
  ]
}