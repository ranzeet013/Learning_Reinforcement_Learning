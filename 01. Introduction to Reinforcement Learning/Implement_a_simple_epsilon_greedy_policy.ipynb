{
  "nbformat": 4,
  "nbformat_minor": 0,
  "metadata": {
    "colab": {
      "provenance": []
    },
    "kernelspec": {
      "name": "python3",
      "display_name": "Python 3"
    },
    "language_info": {
      "name": "python"
    }
  },
  "cells": [
    {
      "cell_type": "code",
      "execution_count": 5,
      "metadata": {
        "id": "I4wnDmVmKjZ_",
        "colab": {
          "base_uri": "https://localhost:8080/"
        },
        "outputId": "7c428066-1129-4b19-fc02-d76883a0aad5"
      },
      "outputs": [
        {
          "output_type": "stream",
          "name": "stdout",
          "text": [
            "Action 0 selected 90.0 times.\n",
            "Action 1 selected 1.0 times.\n",
            "Action 2 selected 0.0 times.\n",
            "Action 3 selected 0.0 times.\n",
            "Action 4 selected 4.0 times.\n",
            "Action 5 selected 0.0 times.\n",
            "Action 6 selected 1.0 times.\n",
            "Action 7 selected 2.0 times.\n",
            "Action 8 selected 1.0 times.\n",
            "Action 9 selected 1.0 times.\n"
          ]
        }
      ],
      "source": [
        "import random\n",
        "import numpy as np\n",
        "\n",
        "class EpsilonGreedyPolicy:\n",
        "  def __init__(self, n_actions, epsilon):\n",
        "    self.n_actions = n_actions\n",
        "    self.epsilon = epsilon\n",
        "\n",
        "  def select_action(self, q_values):\n",
        "    if np.random.rand() < self.epsilon:\n",
        "      return np.random.randint(self.n_actions)\n",
        "    else:\n",
        "      return np.argmax(q_values)\n",
        "\n",
        "n_actions = 10\n",
        "epsilon = 0.1\n",
        "policy = EpsilonGreedyPolicy(n_actions, epsilon)\n",
        "\n",
        "q_values = np.array([1.0, 0.4, 0.3, 0.5])\n",
        "\n",
        "num_trials = 100\n",
        "actions_count = np.zeros(n_actions)\n",
        "\n",
        "for _ in range(num_trials):\n",
        "    selected_action = policy.select_action(q_values)\n",
        "    actions_count[selected_action] += 1\n",
        "\n",
        "for action in range(n_actions):\n",
        "    print(f\"Action {action} selected {actions_count[action]} times.\")\n"
      ]
    },
    {
      "cell_type": "code",
      "source": [],
      "metadata": {
        "id": "iCjQfveGZE9q"
      },
      "execution_count": null,
      "outputs": []
    }
  ]
}